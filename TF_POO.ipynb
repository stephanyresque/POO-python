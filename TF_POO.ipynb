{
  "nbformat": 4,
  "nbformat_minor": 0,
  "metadata": {
    "colab": {
      "provenance": [],
      "authorship_tag": "ABX9TyM+4ihAWrDNyAVbLIwK+tV6",
      "include_colab_link": true
    },
    "kernelspec": {
      "name": "python3",
      "display_name": "Python 3"
    },
    "language_info": {
      "name": "python"
    }
  },
  "cells": [
    {
      "cell_type": "markdown",
      "metadata": {
        "id": "view-in-github",
        "colab_type": "text"
      },
      "source": [
        "<a href=\"https://colab.research.google.com/github/stephanyresque/POO-python/blob/main/TF_POO.ipynb\" target=\"_parent\"><img src=\"https://colab.research.google.com/assets/colab-badge.svg\" alt=\"Open In Colab\"/></a>"
      ]
    },
    {
      "cell_type": "code",
      "execution_count": null,
      "metadata": {
        "id": "fy4YNeChR1BX"
      },
      "outputs": [],
      "source": [
        "from abc import ABC, abstractmethod\n",
        "\n",
        "# Classe Abstrata: ContaBancaria\n",
        "class ContaBancaria(ABC):\n",
        "    def __init__(self, numero, titular, saldo=0):\n",
        "        self.numero = numero\n",
        "        self.titular = titular\n",
        "        self._saldo = saldo\n",
        "\n",
        "    # Métodos abstratos\n",
        "    @abstractmethod\n",
        "    def depositar(self, valor):\n",
        "        pass\n",
        "\n",
        "    @abstractmethod\n",
        "    def sacar(self, valor):\n",
        "        pass\n",
        "\n",
        "    @abstractmethod\n",
        "    def exibir_saldo(self):\n",
        "        pass\n",
        "\n",
        "    # Getter e Setter para o saldo\n",
        "    def get_saldo(self):\n",
        "        return self._saldo\n",
        "\n",
        "    def set_saldo(self, valor):\n",
        "        if valor >= 0:\n",
        "            self._saldo = valor\n",
        "        else:\n",
        "            print(\"O saldo não pode ser negativo.\")"
      ]
    },
    {
      "cell_type": "code",
      "source": [
        "# Classe Base: Conta (Herda de ContaBancaria)\n",
        "class Conta(ContaBancaria):\n",
        "    def depositar(self, valor):\n",
        "        if valor > 0:\n",
        "            self._saldo += valor\n",
        "            print(f\"Depósito de R${valor} realizado com sucesso!\")\n",
        "        else:\n",
        "            print(\"Valor de depósito inválido.\")\n",
        "\n",
        "    def sacar(self, valor):\n",
        "        if 0 < valor <= self._saldo:\n",
        "            self._saldo -= valor\n",
        "            print(f\"Saque de R${valor} realizado com sucesso!\")\n",
        "        else:\n",
        "            print(\"Saldo insuficiente ou valor inválido.\")\n",
        "\n",
        "    def exibir_saldo(self):\n",
        "        print(f\"Saldo da conta {self.numero} (Titular: {self.titular}): R${self._saldo}\")"
      ],
      "metadata": {
        "id": "EK6jFAyTUnEG"
      },
      "execution_count": null,
      "outputs": []
    },
    {
      "cell_type": "code",
      "source": [
        "# Subclasse: ContaCorrente\n",
        "class ContaCorrente(Conta):\n",
        "    def __init__(self, numero, titular, saldo=0, taxa_manutencao=15):\n",
        "        super().__init__(numero, titular, saldo)\n",
        "        self._taxa_manutencao = taxa_manutencao\n",
        "\n",
        "    # Getter e Setter para taxa de manutenção\n",
        "    def get_taxa_manutencao(self):\n",
        "        return self._taxa_manutencao\n",
        "\n",
        "    def set_taxa_manutencao(self, taxa):\n",
        "        if taxa >= 0:\n",
        "            self._taxa_manutencao = taxa\n",
        "        else:\n",
        "            print(\"A taxa de manutenção não pode ser negativa.\")\n",
        "\n",
        "    def cobrar_manutencao(self):\n",
        "        if self._saldo >= self._taxa_manutencao:\n",
        "            self._saldo -= self._taxa_manutencao\n",
        "            print(f\"Taxa de manutenção de R${self._taxa_manutencao} cobrada com sucesso!\")\n",
        "        else:\n",
        "            print(\"Saldo insuficiente para a taxa de manutenção.\")\n"
      ],
      "metadata": {
        "id": "oJuv_wK2UsH0"
      },
      "execution_count": null,
      "outputs": []
    },
    {
      "cell_type": "code",
      "source": [
        "# Subclasse: ContaPoupanca\n",
        "class ContaPoupanca(Conta):\n",
        "    def __init__(self, numero, titular, saldo=0, taxa_juros=0.02):\n",
        "        super().__init__(numero, titular, saldo)\n",
        "        self._taxa_juros = taxa_juros\n",
        "\n",
        "    # Getter e Setter para taxa de juros\n",
        "    def get_taxa_juros(self):\n",
        "        return self._taxa_juros\n",
        "\n",
        "    def set_taxa_juros(self, taxa):\n",
        "        if 0 <= taxa <= 1:\n",
        "            self._taxa_juros = taxa\n",
        "        else:\n",
        "            print(\"A taxa de juros deve estar entre 0 e 1.\")\n",
        "\n",
        "    def aplicar_juros(self):\n",
        "        juros = self._saldo * self._taxa_juros\n",
        "        self._saldo += juros\n",
        "        print(f\"Juros de R${juros:.2f} aplicados com sucesso!\")"
      ],
      "metadata": {
        "id": "6GP-2mW6Uzwc"
      },
      "execution_count": null,
      "outputs": []
    },
    {
      "cell_type": "code",
      "source": [
        "# Teste do Projeto\n",
        "conta_corrente = ContaCorrente(\"1234-5\", \"João\", 100)\n",
        "conta_poupanca = ContaPoupanca(\"5432-1\", \"Maria\", 200)\n",
        "\n",
        "# Operações na conta corrente\n",
        "conta_corrente.depositar(50)\n",
        "conta_corrente.sacar(30)\n",
        "conta_corrente.cobrar_manutencao()\n",
        "conta_corrente.exibir_saldo()\n",
        "\n",
        "print(\"\\n\")\n",
        "\n",
        "# Operações na conta poupança\n",
        "conta_poupanca.depositar(100)\n",
        "conta_poupanca.aplicar_juros()\n",
        "conta_poupanca.sacar(50)\n",
        "conta_poupanca.exibir_saldo()\n",
        "\n",
        "# Exemplo de uso dos Getters e Setters\n",
        "print(\"\\nTaxa de manutenção atual:\", conta_corrente.get_taxa_manutencao())\n",
        "conta_corrente.set_taxa_manutencao(20)\n",
        "print(\"Nova taxa de manutenção:\", conta_corrente.get_taxa_manutencao())\n",
        "\n",
        "print(\"\\nTaxa de juros atual:\", conta_poupanca.get_taxa_juros())\n",
        "conta_poupanca.set_taxa_juros(0.03)\n",
        "print(\"Nova taxa de juros:\", conta_poupanca.get_taxa_juros())"
      ],
      "metadata": {
        "colab": {
          "base_uri": "https://localhost:8080/"
        },
        "id": "iPuH8q9TU6pc",
        "outputId": "13bfc7f3-b972-4a73-f83c-f800d160871a"
      },
      "execution_count": null,
      "outputs": [
        {
          "output_type": "stream",
          "name": "stdout",
          "text": [
            "Depósito de R$50 realizado com sucesso!\n",
            "Saque de R$30 realizado com sucesso!\n",
            "Taxa de manutenção de R$15 cobrada com sucesso!\n",
            "Saldo da conta 1234-5 (Titular: João): R$105\n",
            "\n",
            "\n",
            "Depósito de R$100 realizado com sucesso!\n",
            "Juros de R$6.00 aplicados com sucesso!\n",
            "Saque de R$50 realizado com sucesso!\n",
            "Saldo da conta 5432-1 (Titular: Maria): R$256.0\n",
            "\n",
            "Taxa de manutenção atual: 15\n",
            "Nova taxa de manutenção: 20\n",
            "\n",
            "Taxa de juros atual: 0.02\n",
            "Nova taxa de juros: 0.03\n"
          ]
        }
      ]
    }
  ]
}